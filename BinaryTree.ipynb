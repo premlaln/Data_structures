{
 "cells": [
  {
   "cell_type": "markdown",
   "id": "a2456478",
   "metadata": {},
   "source": [
    "# binary tree, preorder, postorder, inorder traversal"
   ]
  },
  {
   "cell_type": "code",
   "execution_count": 43,
   "id": "93270253",
   "metadata": {},
   "outputs": [],
   "source": [
    "class Node:\n",
    "    def __init__(self,value):\n",
    "        self.left=None\n",
    "        self.data=value\n",
    "        self.right=None\n",
    "\n",
    "class Tree:\n",
    "    def createNode(self,data):\n",
    "        return Node( data)\n",
    "    def insert(self, node, data):\n",
    "        if node is None:\n",
    "            return self.createNode(data)\n",
    "        if data< node.data:\n",
    "            node.left=self.insert(node.left,data)\n",
    "        else:\n",
    "            node.right=self.insert(node.right,data)\n",
    "        return node\n",
    "    def inorder(self,root):\n",
    "        if root is not None:\n",
    "            self.inorder(root.left)\n",
    "            print(root.data)\n",
    "            self.inorder(root.right)\n",
    "    def preorder(self,root):\n",
    "        if root is not None:\n",
    "            print(root.data)\n",
    "            self.preorder(root.left)\n",
    "            self.preorder(root.right)\n",
    "            \n",
    "    def postorder(self,root):\n",
    "        if root is not None:\n",
    "            self.postorder(root.left)\n",
    "            self.postorder(root.right)\n",
    "            print(root.data)"
   ]
  },
  {
   "cell_type": "code",
   "execution_count": 44,
   "id": "5ce4d3fc",
   "metadata": {},
   "outputs": [
    {
     "data": {
      "text/plain": [
       "<__main__.Node at 0x26b61577430>"
      ]
     },
     "execution_count": 44,
     "metadata": {},
     "output_type": "execute_result"
    }
   ],
   "source": [
    "tr=Tree()\n",
    "root=tr.createNode(5)\n",
    "tr.insert(root,10)\n",
    "tr.insert(root,13)\n",
    "tr.insert(root,4)\n",
    "tr.insert(root,2)\n",
    "tr.insert(root,29)\n",
    "tr.insert(root,7)\n",
    "tr.insert(root,3)"
   ]
  },
  {
   "cell_type": "code",
   "execution_count": 45,
   "id": "2831b422",
   "metadata": {},
   "outputs": [
    {
     "name": "stdout",
     "output_type": "stream",
     "text": [
      "In order traversal:\n",
      "2\n",
      "3\n",
      "4\n",
      "5\n",
      "7\n",
      "10\n",
      "13\n",
      "29\n"
     ]
    }
   ],
   "source": [
    "#Inorder travering for tree\n",
    "print(\"In order traversal:\")\n",
    "tr.inorder(root)"
   ]
  },
  {
   "cell_type": "code",
   "execution_count": 46,
   "id": "2e1ac017",
   "metadata": {},
   "outputs": [
    {
     "name": "stdout",
     "output_type": "stream",
     "text": [
      "pre order traversal:\n",
      "5\n",
      "4\n",
      "2\n",
      "3\n",
      "10\n",
      "7\n",
      "13\n",
      "29\n"
     ]
    }
   ],
   "source": [
    "print(\"pre order traversal:\")\n",
    "tr.preorder(root)"
   ]
  },
  {
   "cell_type": "code",
   "execution_count": 47,
   "id": "522cf8ed",
   "metadata": {},
   "outputs": [
    {
     "name": "stdout",
     "output_type": "stream",
     "text": [
      "post order traversal:\n",
      "3\n",
      "2\n",
      "4\n",
      "7\n",
      "29\n",
      "13\n",
      "10\n",
      "5\n"
     ]
    }
   ],
   "source": [
    "print(\"post order traversal:\")\n",
    "tr.postorder(root)"
   ]
  },
  {
   "cell_type": "code",
   "execution_count": null,
   "id": "06a32b61",
   "metadata": {},
   "outputs": [],
   "source": []
  }
 ],
 "metadata": {
  "kernelspec": {
   "display_name": "Python 3 (ipykernel)",
   "language": "python",
   "name": "python3"
  },
  "language_info": {
   "codemirror_mode": {
    "name": "ipython",
    "version": 3
   },
   "file_extension": ".py",
   "mimetype": "text/x-python",
   "name": "python",
   "nbconvert_exporter": "python",
   "pygments_lexer": "ipython3",
   "version": "3.9.7"
  }
 },
 "nbformat": 4,
 "nbformat_minor": 5
}
