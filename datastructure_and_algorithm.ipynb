{
 "cells": [
  {
   "cell_type": "raw",
   "id": "def1a34f",
   "metadata": {},
   "source": [
    "1. You returned an item that you bought in a month of April and\n",
    "got a refund of 200$. Make a correction to your monthly expense list based on this\n",
    "i) January - 2200\n",
    "ii) February - 2350\n",
    "iii) March - 2600\n",
    "iv) April - 2130\n",
    "v) May - 2190\n",
    "1. In Feb, how many dollars you spent extra compare to January?\n",
    "2. Find out your total expense in first quarter (first three months) of the year.\n",
    "3. Find out if you spent exactly 2000 dollars in any month\n",
    "4. June month just finished and your expense is 1980 dollar. Add this item to our monthly expense list\n",
    "5. You returned an item that you bought in a month of April and\n",
    "got a refund of 200$. Make a correction to your monthly expense list\n",
    "based on this"
   ]
  },
  {
   "cell_type": "code",
   "execution_count": 2,
   "id": "a064273d",
   "metadata": {},
   "outputs": [],
   "source": [
    "expense=[2200,2350,2600,2130,2190]\n"
   ]
  },
  {
   "cell_type": "code",
   "execution_count": 4,
   "id": "2c418141",
   "metadata": {},
   "outputs": [
    {
     "name": "stdout",
     "output_type": "stream",
     "text": [
      "Extra expense is:  150\n"
     ]
    }
   ],
   "source": [
    "print(\"Extra expense is: \",expense[1]-expense[0])"
   ]
  },
  {
   "cell_type": "code",
   "execution_count": 6,
   "id": "0bd093cb",
   "metadata": {},
   "outputs": [
    {
     "name": "stdout",
     "output_type": "stream",
     "text": [
      "total expense is:  7150\n"
     ]
    }
   ],
   "source": [
    "total=0\n",
    "for i in range(0,3):\n",
    "    total+=expense[i]\n",
    "print(\"total expense is: \",total)"
   ]
  },
  {
   "cell_type": "code",
   "execution_count": 12,
   "id": "ad4c0a7b",
   "metadata": {},
   "outputs": [
    {
     "name": "stdout",
     "output_type": "stream",
     "text": [
      "Not Find\n"
     ]
    }
   ],
   "source": [
    "t=0\n",
    "for i in expense:\n",
    "    if i==2000:\n",
    "        t=1\n",
    "        break\n",
    "if t==0:\n",
    "    print(\"Not Find\")\n",
    "else: \n",
    "    print(\"Find\")\n"
   ]
  },
  {
   "cell_type": "code",
   "execution_count": 13,
   "id": "a4889789",
   "metadata": {},
   "outputs": [],
   "source": [
    "expense.append(1980)"
   ]
  },
  {
   "cell_type": "code",
   "execution_count": 15,
   "id": "11436b56",
   "metadata": {},
   "outputs": [],
   "source": [
    "expense[3]=expense[3]+200"
   ]
  },
  {
   "cell_type": "code",
   "execution_count": 17,
   "id": "8523e365",
   "metadata": {},
   "outputs": [
    {
     "name": "stdout",
     "output_type": "stream",
     "text": [
      "[2200, 2350, 2600, 2330, 2190, 1980]\n"
     ]
    }
   ],
   "source": [
    "print(expense)"
   ]
  },
  {
   "cell_type": "raw",
   "id": "656a6d9d",
   "metadata": {},
   "source": [
    "2. You have a list of your favourite marvel super heros.\n",
    "heros=['spider man','thor','hulk','iron man','captain america']\n",
    "Using this find out,\n",
    "1. Length of the list\n",
    "2. Add 'black panther' at the end of this list\n",
    "3. You realize that you need to add 'black panther' after 'hulk',\n",
    "   so remove it from the list first and then add it after 'hulk'\n",
    "4. Now you don't like thor and hulk because they get angry easily :)\n",
    "   So you want to remove thor and hulk from list and replace them with doctor strange (because he is cool).\n",
    "   Do that with one line of code.\n",
    "5. Sort the heros list in alphabetical order (Hint. Use dir() functions to list down all functions available in list)"
   ]
  },
  {
   "cell_type": "code",
   "execution_count": 48,
   "id": "91b6f7ea",
   "metadata": {},
   "outputs": [],
   "source": [
    "heros=['spider man','thor','hulk','iron man','captain america']"
   ]
  },
  {
   "cell_type": "code",
   "execution_count": 49,
   "id": "b67114ee",
   "metadata": {},
   "outputs": [
    {
     "name": "stdout",
     "output_type": "stream",
     "text": [
      "The size of the number of heros is:  5\n"
     ]
    }
   ],
   "source": [
    "print(\"The size of the number of heros is: \",len(heros))"
   ]
  },
  {
   "cell_type": "code",
   "execution_count": 50,
   "id": "45d17768",
   "metadata": {},
   "outputs": [
    {
     "name": "stdout",
     "output_type": "stream",
     "text": [
      "['spider man', 'thor', 'hulk', 'iron man', 'captain america', 'black panther']\n"
     ]
    }
   ],
   "source": [
    "heros.append(\"black panther\")\n",
    "print(heros)"
   ]
  },
  {
   "cell_type": "code",
   "execution_count": 51,
   "id": "2a5fc09a",
   "metadata": {},
   "outputs": [
    {
     "data": {
      "text/plain": [
       "['spider man', 'thor', 'hulk', 'iron man', 'captain america']"
      ]
     },
     "execution_count": 51,
     "metadata": {},
     "output_type": "execute_result"
    }
   ],
   "source": [
    "heros.remove('black panther')\n",
    "heros"
   ]
  },
  {
   "cell_type": "code",
   "execution_count": 52,
   "id": "e5b33a9f",
   "metadata": {},
   "outputs": [
    {
     "data": {
      "text/plain": [
       "['spider man', 'thor', 'black panther', 'hulk', 'iron man', 'captain america']"
      ]
     },
     "execution_count": 52,
     "metadata": {},
     "output_type": "execute_result"
    }
   ],
   "source": [
    "for i in range(0,len(heros)):\n",
    "    if heros[i]=='hulk':\n",
    "        t=i\n",
    "        break\n",
    "heros.insert(t,'black panther')\n",
    "heros"
   ]
  },
  {
   "cell_type": "code",
   "execution_count": 53,
   "id": "3c821389",
   "metadata": {},
   "outputs": [],
   "source": [
    "heros=[\"doctor strage\" if hero in ['thor','hulk'] else hero for hero in heros]"
   ]
  },
  {
   "cell_type": "code",
   "execution_count": 54,
   "id": "3074ee12",
   "metadata": {},
   "outputs": [
    {
     "data": {
      "text/plain": [
       "['black panther',\n",
       " 'captain america',\n",
       " 'doctor strage',\n",
       " 'doctor strage',\n",
       " 'iron man',\n",
       " 'spider man']"
      ]
     },
     "execution_count": 54,
     "metadata": {},
     "output_type": "execute_result"
    }
   ],
   "source": [
    "heros.sort()\n",
    "heros"
   ]
  },
  {
   "cell_type": "raw",
   "id": "3de52f55",
   "metadata": {},
   "source": [
    "3. Create a list of all odd numbers between 1 and a max number. Max number is something you need to take from a user using input() function"
   ]
  },
  {
   "cell_type": "code",
   "execution_count": 57,
   "id": "6fb3db76",
   "metadata": {},
   "outputs": [
    {
     "name": "stdout",
     "output_type": "stream",
     "text": [
      "Enter the maximum number: 10\n"
     ]
    },
    {
     "data": {
      "text/plain": [
       "[1, 2, 3, 4, 5, 6, 7, 8, 9, 10]"
      ]
     },
     "execution_count": 57,
     "metadata": {},
     "output_type": "execute_result"
    }
   ],
   "source": [
    "n=int(input(\"Enter the maximum number: \"))\n",
    "li=[]\n",
    "for i in range(1,n+1):\n",
    "    li.append(i)\n",
    "li"
   ]
  },
  {
   "cell_type": "raw",
   "id": "6487e15f",
   "metadata": {},
   "source": [
    "4. In LinkedList class that we implemented in our tutorial add following two methods, \n",
    "def insert_after_value(self, data_after, data_to_insert):\n",
    "    # Search for first occurance of data_after value in linked list\n",
    "    # Now insert data_to_insert after data_after node\n",
    "\n",
    "def remove_by_value(self, data):\n",
    "    # Remove first node that contains data\n",
    "Now make following calls,\n",
    "    ll = LinkedList()\n",
    "    ll.insert_values([\"banana\",\"mango\",\"grapes\",\"orange\"])\n",
    "    ll.print()\n",
    "    ll.insert_after_value(\"mango\",\"apple\") # insert apple after mango\n",
    "    ll.print()\n",
    "    ll.remove_by_value(\"orange\") # remove orange from linked list\n",
    "    ll.print()\n",
    "    ll.remove_by_value(\"figs\")\n",
    "    ll.print()\n",
    "    ll.remove_by_value(\"banana\")\n",
    "    ll.remove_by_value(\"mango\")\n",
    "    ll.remove_by_value(\"apple\")\n",
    "    ll.remove_by_value(\"grapes\")\n",
    "    ll.print()"
   ]
  },
  {
   "cell_type": "code",
   "execution_count": 45,
   "id": "e6a9b4eb",
   "metadata": {},
   "outputs": [
    {
     "name": "stdout",
     "output_type": "stream",
     "text": [
      "banana  then\n",
      "mango  then\n",
      "grapes  then\n",
      "orange  then\n",
      "banana  then\n",
      "mango  then\n",
      "apple  then\n",
      "grapes  then\n",
      "orange  then\n",
      "banana  then\n",
      "mango  then\n",
      "apple  then\n",
      "grapes  then\n",
      "banana  then\n",
      "mango  then\n",
      "apple  then\n",
      "grapes  then\n"
     ]
    }
   ],
   "source": [
    "class Node:\n",
    "    def __init__(self,data=None,link=None):\n",
    "        self.data=data\n",
    "        self.link=link\n",
    "class linked_list:\n",
    "    def __init__(self):\n",
    "        self.head=None\n",
    "    def insert_after_value(self,data_after,data_to_insert):\n",
    "        if self.head is None:\n",
    "            self.head=Node(data_to_insert,None)\n",
    "            return \n",
    "        if self.head.data==data_after:\n",
    "            self.head.link=Node(data_to_insert,None)\n",
    "            return\n",
    "        itr=self.head\n",
    "        while itr.link:\n",
    "            if itr.link.data==data_after:\n",
    "                itr.link.link=Node(data_to_insert,itr.link.link)\n",
    "                break\n",
    "            itr=itr.link\n",
    "    def remove_by_value(self,value):\n",
    "        if self.head is None:\n",
    "            print(\"the linked list is empty \")\n",
    "            return\n",
    "        if self.head.data==value:\n",
    "            self.head=self.head.link\n",
    "            return\n",
    "        itr=self.head\n",
    "        while itr.link:\n",
    "            if itr.link.data==value:\n",
    "                itr.link=itr.link.link\n",
    "                break\n",
    "            itr=itr.link\n",
    "            \n",
    "    def insert_end(self,data):\n",
    "        if self.head is None:\n",
    "            self.head=Node(data,None)\n",
    "            return\n",
    "        itr=self.head\n",
    "        while itr.link:\n",
    "            itr=itr.link\n",
    "        itr.link=Node(data,None)\n",
    "        \n",
    "    def insert_values(self,li):\n",
    "        for d in li:\n",
    "            self.insert_end(d)\n",
    "    def print(self):\n",
    "        itr=self.head\n",
    "        while itr:\n",
    "            print(itr.data,\" then\")\n",
    "            itr=itr.link\n",
    "    \n",
    "if __name__==\"__main__\":\n",
    "    ll=linked_list()\n",
    "    ll.insert_values([\"banana\",\"mango\",\"grapes\",\"orange\"])\n",
    "    ll.print()\n",
    "    ll.insert_after_value(\"mango\",\"apple\") # insert apple after mango\n",
    "    ll.print()\n",
    "    ll.remove_by_value(\"orange\") # remove orange from linked list\n",
    "    ll.print()\n",
    "    ll.remove_by_value(\"figs\")\n",
    "    ll.print()"
   ]
  },
  {
   "cell_type": "raw",
   "id": "744418c1",
   "metadata": {},
   "source": [
    "5.  Implement doubly linked list. The only difference with regular linked list is that double linked has prev node reference as well. That way you can iterate in forward and backward direction. Your node class will look this this,\n",
    "class Node:\n",
    "    def __init__(self, data=None, next=None, prev=None):\n",
    "        self.data = data\n",
    "        self.next = next\n",
    "        self.prev = prev\n",
    "Add following new methods,\n",
    "def print_forward(self):\n",
    "    # This method prints list in forward direction. Use node.next\n",
    "\n",
    "def print_backward(self):\n",
    "    # Print linked list in reverse direction. Use node.prev for this.\n",
    "Implement all other methods in regular linked list class and make necessary changes for doubly linked list (you need to populate node.prev in all those methods)"
   ]
  },
  {
   "cell_type": "code",
   "execution_count": 28,
   "id": "6091e194",
   "metadata": {},
   "outputs": [
    {
     "name": "stdout",
     "output_type": "stream",
     "text": [
      "12-->32-->56-->31-->\n",
      "31-->56-->32-->12-->\n"
     ]
    }
   ],
   "source": [
    "class Node:\n",
    "    def __init__(self,data=None,nex=None,prev=None):\n",
    "        self.data=data\n",
    "        self.nex=nex\n",
    "        self.prev=prev\n",
    "class linked_list:\n",
    "    def __init__(self):\n",
    "        self.head=None\n",
    "    def print_forward(self):\n",
    "        if self.head is None:\n",
    "            print(\"The double linked list is empty \")\n",
    "            return\n",
    "        itr=self.head\n",
    "        string=''\n",
    "        while itr:\n",
    "            string=string+str(itr.data)+'-->'\n",
    "            itr=itr.nex\n",
    "        print(string)\n",
    "    def print_backward(self):\n",
    "        if self.head is None:\n",
    "            print(\"The double linked list is empty \")\n",
    "            return\n",
    "        \n",
    "        itr=self.head\n",
    "        while itr.nex:\n",
    "            itr=itr.nex\n",
    "            \n",
    "        string=''\n",
    "        while itr:\n",
    "            string=string+str(itr.data)+'-->'\n",
    "            itr=itr.prev\n",
    "        print(string)\n",
    "        \n",
    "    def insert_ending(self,data):\n",
    "        if self.head is None:\n",
    "            self.head=Node(data, None, None)\n",
    "            return\n",
    "        itr=self.head\n",
    "        while itr.nex:\n",
    "            itr=itr.nex\n",
    "        itr.nex=Node(data,None,itr)\n",
    "        \n",
    "    def add_node(self,lists):\n",
    "        for d in lists:\n",
    "            self.insert_ending(d)\n",
    "ll=linked_list()\n",
    "ll.add_node(['12','32','56','31'])\n",
    "ll.print_forward()\n",
    "ll.print_backward()\n",
    "        "
   ]
  },
  {
   "cell_type": "raw",
   "id": "dda58091",
   "metadata": {},
   "source": [
    "6. nyc_weather.csv contains new york city weather for first few days in the month of January. Write a program that can answer following,\n",
    "What was the average temperature in first week of Jan\n",
    "What was the maximum temperature in first 10 days of Jan\n",
    "Figure out data structure that is best for this problem"
   ]
  },
  {
   "cell_type": "code",
   "execution_count": 37,
   "id": "3efbbdd8",
   "metadata": {},
   "outputs": [
    {
     "data": {
      "text/plain": [
       "<_io.TextIOWrapper name='nyc_weather.csv' mode='r' encoding='cp1252'>"
      ]
     },
     "execution_count": 37,
     "metadata": {},
     "output_type": "execute_result"
    }
   ],
   "source": [
    "f=open('nyc_weather.csv','r')\n",
    "next(f)\n",
    "f"
   ]
  },
  {
   "cell_type": "code",
   "execution_count": 38,
   "id": "eefdd81b",
   "metadata": {},
   "outputs": [],
   "source": [
    "link=[]\n",
    "for i in f:\n",
    "    li=i.strip()\n",
    "    li=li.split(',')\n",
    "    link.append(int(li[1]))"
   ]
  },
  {
   "cell_type": "code",
   "execution_count": 39,
   "id": "5848837b",
   "metadata": {},
   "outputs": [
    {
     "name": "stdout",
     "output_type": "stream",
     "text": [
      "30.4\n"
     ]
    }
   ],
   "source": [
    "print(sum(link[0:5])/5)"
   ]
  },
  {
   "cell_type": "code",
   "execution_count": 40,
   "id": "68559040",
   "metadata": {},
   "outputs": [
    {
     "data": {
      "text/plain": [
       "38"
      ]
     },
     "execution_count": 40,
     "metadata": {},
     "output_type": "execute_result"
    }
   ],
   "source": [
    "max(link[0:10])"
   ]
  },
  {
   "cell_type": "code",
   "execution_count": 41,
   "id": "f28f1f3d",
   "metadata": {},
   "outputs": [
    {
     "data": {
      "text/plain": [
       "list"
      ]
     },
     "execution_count": 41,
     "metadata": {},
     "output_type": "execute_result"
    }
   ],
   "source": [
    "type(link)"
   ]
  },
  {
   "cell_type": "raw",
   "id": "93e8e595",
   "metadata": {},
   "source": [
    "7. nyc_weather.csv contains new york city weather for first few days in the month of January. Write a program that can answer following,\n",
    "What was the temperature on Jan 9?\n",
    "What was the temperature on Jan 4?\n",
    "Figure out data structure that is best for this problem"
   ]
  },
  {
   "cell_type": "code",
   "execution_count": 42,
   "id": "15e02ed0",
   "metadata": {},
   "outputs": [],
   "source": [
    "f=open('nyc_weather.csv','r')"
   ]
  },
  {
   "cell_type": "code",
   "execution_count": 43,
   "id": "0bcf46f5",
   "metadata": {},
   "outputs": [],
   "source": [
    "class Hash_table:\n",
    "    def __init__(self):\n",
    "        self.Max=10\n",
    "        self.arr=[[] for i in range(self.Max)]\n",
    "    def get_value(self,key):\n",
    "        h=0\n",
    "        for ch in key:\n",
    "            h=h+ord(ch)\n",
    "        return h%self.Max\n",
    "    def __setitem__(self,key,value):\n",
    "        h=self.get_value(key)\n",
    "        found=False\n",
    "        for idx, element in enumerate(self.arr[h]):\n",
    "            if len(element[0])==2 and element[1]==key:\n",
    "                found=True\n",
    "                self.arr[h][idx]=(key,value)\n",
    "                break\n",
    "        if not found:\n",
    "            self.arr[h].append((key,value))\n",
    "    def __getitem__(self, key):\n",
    "        h=self.get_value(key)\n",
    "        for idx, element in enumerate(self.arr[h]):\n",
    "            if element[0]==key:\n",
    "                return element[1]\n"
   ]
  },
  {
   "cell_type": "code",
   "execution_count": 44,
   "id": "01d6e4a1",
   "metadata": {},
   "outputs": [],
   "source": [
    "ll=Hash_table()\n"
   ]
  },
  {
   "cell_type": "code",
   "execution_count": 45,
   "id": "2227ea6c",
   "metadata": {},
   "outputs": [],
   "source": [
    "next(f)\n",
    "for line in f:\n",
    "    line=line.strip()\n",
    "    line=line.split(',')\n",
    "    ll[line[0]]=int(line[1])"
   ]
  },
  {
   "cell_type": "code",
   "execution_count": 46,
   "id": "df0f7b5e",
   "metadata": {},
   "outputs": [
    {
     "data": {
      "text/plain": [
       "[[('Jan 9', 35), ('Jan 10', 30)],\n",
       " [],\n",
       " [('Jan 1', 27)],\n",
       " [('Jan 2', 31)],\n",
       " [('Jan 3', 23)],\n",
       " [('Jan 4', 34)],\n",
       " [('Jan 5', 37)],\n",
       " [('Jan 6', 38)],\n",
       " [('Jan 7', 29)],\n",
       " [('Jan 8', 30)]]"
      ]
     },
     "execution_count": 46,
     "metadata": {},
     "output_type": "execute_result"
    }
   ],
   "source": [
    "ll.arr"
   ]
  },
  {
   "cell_type": "code",
   "execution_count": 47,
   "id": "6e94c359",
   "metadata": {},
   "outputs": [
    {
     "name": "stdout",
     "output_type": "stream",
     "text": [
      "35\n"
     ]
    }
   ],
   "source": [
    "print(ll['Jan 9'])"
   ]
  },
  {
   "cell_type": "code",
   "execution_count": 48,
   "id": "1e18df7e",
   "metadata": {},
   "outputs": [
    {
     "data": {
      "text/plain": [
       "34"
      ]
     },
     "execution_count": 48,
     "metadata": {},
     "output_type": "execute_result"
    }
   ],
   "source": [
    "ll['Jan 4']"
   ]
  },
  {
   "cell_type": "raw",
   "id": "f7a3558d",
   "metadata": {},
   "source": [
    "8. poem.txt Contains famous poem \"Road not taken\" by poet Robert Frost. You have to read this file in python and print every word and its count as show below. Think about the best data structure that you can use to solve this problem and figure out why you selected that specific data structure.\n",
    " 'diverged': 2,\n",
    " 'in': 3,\n",
    " 'I': 8"
   ]
  },
  {
   "cell_type": "code",
   "execution_count": 62,
   "id": "7107ace4",
   "metadata": {},
   "outputs": [],
   "source": [
    "f=open('poet.txt','r')"
   ]
  },
  {
   "cell_type": "code",
   "execution_count": 53,
   "id": "ee686a8e",
   "metadata": {},
   "outputs": [],
   "source": [
    "lis=[]\n",
    "for line in f:\n",
    "    line=line.strip()\n",
    "    line=line.split()\n",
    "    for i in line:\n",
    "        lis.append(i)"
   ]
  },
  {
   "cell_type": "code",
   "execution_count": 59,
   "id": "114a5e4e",
   "metadata": {},
   "outputs": [
    {
     "data": {
      "text/plain": [
       "['Two',\n",
       " 'roads',\n",
       " 'diverged',\n",
       " 'in',\n",
       " 'a',\n",
       " 'yellow',\n",
       " 'wood,',\n",
       " 'And',\n",
       " 'sorry',\n",
       " 'I',\n",
       " 'could',\n",
       " 'not',\n",
       " 'travel',\n",
       " 'both',\n",
       " 'And',\n",
       " 'be',\n",
       " 'one',\n",
       " 'traveler,',\n",
       " 'long',\n",
       " 'I',\n",
       " 'stood',\n",
       " 'And',\n",
       " 'looked',\n",
       " 'down',\n",
       " 'one',\n",
       " 'as',\n",
       " 'far',\n",
       " 'as',\n",
       " 'I',\n",
       " 'could',\n",
       " 'To',\n",
       " 'where',\n",
       " 'it',\n",
       " 'bent',\n",
       " 'in',\n",
       " 'the',\n",
       " 'undergrowth;',\n",
       " 'Then',\n",
       " 'took',\n",
       " 'the',\n",
       " 'other,',\n",
       " 'as',\n",
       " 'just',\n",
       " 'as',\n",
       " 'fair,',\n",
       " 'And',\n",
       " 'having',\n",
       " 'perhaps',\n",
       " 'the',\n",
       " 'better',\n",
       " 'claim,',\n",
       " 'Because',\n",
       " 'it',\n",
       " 'was',\n",
       " 'grassy',\n",
       " 'and',\n",
       " 'wanted',\n",
       " 'wear;',\n",
       " 'Though',\n",
       " 'as',\n",
       " 'for',\n",
       " 'that',\n",
       " 'the',\n",
       " 'passing',\n",
       " 'there',\n",
       " 'Had',\n",
       " 'worn',\n",
       " 'them',\n",
       " 'really',\n",
       " 'about',\n",
       " 'the',\n",
       " 'same,',\n",
       " 'And',\n",
       " 'both',\n",
       " 'that',\n",
       " 'morning',\n",
       " 'equally',\n",
       " 'lay',\n",
       " 'In',\n",
       " 'leaves',\n",
       " 'no',\n",
       " 'step',\n",
       " 'had',\n",
       " 'trodden',\n",
       " 'black.',\n",
       " 'Oh,',\n",
       " 'I',\n",
       " 'kept',\n",
       " 'the',\n",
       " 'first',\n",
       " 'for',\n",
       " 'another',\n",
       " 'day!',\n",
       " 'Yet',\n",
       " 'knowing',\n",
       " 'how',\n",
       " 'way',\n",
       " 'leads',\n",
       " 'on',\n",
       " 'to',\n",
       " 'way,',\n",
       " 'I',\n",
       " 'doubted',\n",
       " 'if',\n",
       " 'I',\n",
       " 'should',\n",
       " 'ever',\n",
       " 'come',\n",
       " 'back.',\n",
       " 'I',\n",
       " 'shall',\n",
       " 'be',\n",
       " 'telling',\n",
       " 'this',\n",
       " 'with',\n",
       " 'a',\n",
       " 'sigh',\n",
       " 'Somewhere',\n",
       " 'ages',\n",
       " 'and',\n",
       " 'ages',\n",
       " 'hence:',\n",
       " 'Two',\n",
       " 'roads',\n",
       " 'diverged',\n",
       " 'in',\n",
       " 'a',\n",
       " 'wood,',\n",
       " 'and',\n",
       " 'Iâ€”',\n",
       " 'I',\n",
       " 'took',\n",
       " 'the',\n",
       " 'one',\n",
       " 'less',\n",
       " 'traveled',\n",
       " 'by,',\n",
       " 'And',\n",
       " 'that',\n",
       " 'has',\n",
       " 'made',\n",
       " 'all',\n",
       " 'the',\n",
       " 'difference.']"
      ]
     },
     "execution_count": 59,
     "metadata": {},
     "output_type": "execute_result"
    }
   ],
   "source": [
    "lis"
   ]
  },
  {
   "cell_type": "code",
   "execution_count": 57,
   "id": "445faceb",
   "metadata": {},
   "outputs": [],
   "source": [
    "from statistics import Counter\n"
   ]
  },
  {
   "cell_type": "code",
   "execution_count": 58,
   "id": "6f6a7789",
   "metadata": {},
   "outputs": [
    {
     "data": {
      "text/plain": [
       "Counter({'Two': 2,\n",
       "         'roads': 2,\n",
       "         'diverged': 2,\n",
       "         'in': 3,\n",
       "         'a': 3,\n",
       "         'yellow': 1,\n",
       "         'wood,': 2,\n",
       "         'And': 6,\n",
       "         'sorry': 1,\n",
       "         'I': 8,\n",
       "         'could': 2,\n",
       "         'not': 1,\n",
       "         'travel': 1,\n",
       "         'both': 2,\n",
       "         'be': 2,\n",
       "         'one': 3,\n",
       "         'traveler,': 1,\n",
       "         'long': 1,\n",
       "         'stood': 1,\n",
       "         'looked': 1,\n",
       "         'down': 1,\n",
       "         'as': 5,\n",
       "         'far': 1,\n",
       "         'To': 1,\n",
       "         'where': 1,\n",
       "         'it': 2,\n",
       "         'bent': 1,\n",
       "         'the': 8,\n",
       "         'undergrowth;': 1,\n",
       "         'Then': 1,\n",
       "         'took': 2,\n",
       "         'other,': 1,\n",
       "         'just': 1,\n",
       "         'fair,': 1,\n",
       "         'having': 1,\n",
       "         'perhaps': 1,\n",
       "         'better': 1,\n",
       "         'claim,': 1,\n",
       "         'Because': 1,\n",
       "         'was': 1,\n",
       "         'grassy': 1,\n",
       "         'and': 3,\n",
       "         'wanted': 1,\n",
       "         'wear;': 1,\n",
       "         'Though': 1,\n",
       "         'for': 2,\n",
       "         'that': 3,\n",
       "         'passing': 1,\n",
       "         'there': 1,\n",
       "         'Had': 1,\n",
       "         'worn': 1,\n",
       "         'them': 1,\n",
       "         'really': 1,\n",
       "         'about': 1,\n",
       "         'same,': 1,\n",
       "         'morning': 1,\n",
       "         'equally': 1,\n",
       "         'lay': 1,\n",
       "         'In': 1,\n",
       "         'leaves': 1,\n",
       "         'no': 1,\n",
       "         'step': 1,\n",
       "         'had': 1,\n",
       "         'trodden': 1,\n",
       "         'black.': 1,\n",
       "         'Oh,': 1,\n",
       "         'kept': 1,\n",
       "         'first': 1,\n",
       "         'another': 1,\n",
       "         'day!': 1,\n",
       "         'Yet': 1,\n",
       "         'knowing': 1,\n",
       "         'how': 1,\n",
       "         'way': 1,\n",
       "         'leads': 1,\n",
       "         'on': 1,\n",
       "         'to': 1,\n",
       "         'way,': 1,\n",
       "         'doubted': 1,\n",
       "         'if': 1,\n",
       "         'should': 1,\n",
       "         'ever': 1,\n",
       "         'come': 1,\n",
       "         'back.': 1,\n",
       "         'shall': 1,\n",
       "         'telling': 1,\n",
       "         'this': 1,\n",
       "         'with': 1,\n",
       "         'sigh': 1,\n",
       "         'Somewhere': 1,\n",
       "         'ages': 2,\n",
       "         'hence:': 1,\n",
       "         'Iâ€”': 1,\n",
       "         'less': 1,\n",
       "         'traveled': 1,\n",
       "         'by,': 1,\n",
       "         'has': 1,\n",
       "         'made': 1,\n",
       "         'all': 1,\n",
       "         'difference.': 1})"
      ]
     },
     "execution_count": 58,
     "metadata": {},
     "output_type": "execute_result"
    }
   ],
   "source": [
    "count_word=Counter(lis)\n",
    "count_word"
   ]
  },
  {
   "cell_type": "code",
   "execution_count": 71,
   "id": "a146823e",
   "metadata": {},
   "outputs": [],
   "source": [
    "coud_word={}\n",
    "for line in f:\n",
    "    tokens =line.split(' ')\n",
    "    for token in tokens:\n",
    "        token=token.replace('\\n','')\n",
    "        if token in coud_word:\n",
    "            coud_word[token]+=1\n",
    "        else:\n",
    "            coud_word[token]=1"
   ]
  },
  {
   "cell_type": "code",
   "execution_count": 72,
   "id": "9eade62c",
   "metadata": {},
   "outputs": [
    {
     "data": {
      "text/plain": [
       "{'Because': 1,\n",
       " 'it': 1,\n",
       " 'was': 1,\n",
       " 'grassy': 1,\n",
       " 'and': 3,\n",
       " 'wanted': 1,\n",
       " 'wear;': 1,\n",
       " 'Though': 1,\n",
       " 'as': 1,\n",
       " 'for': 2,\n",
       " 'that': 3,\n",
       " 'the': 5,\n",
       " 'passing': 1,\n",
       " 'there': 1,\n",
       " 'Had': 1,\n",
       " 'worn': 1,\n",
       " 'them': 1,\n",
       " 'really': 1,\n",
       " 'about': 1,\n",
       " 'same,': 1,\n",
       " '': 2,\n",
       " 'And': 2,\n",
       " 'both': 1,\n",
       " 'morning': 1,\n",
       " 'equally': 1,\n",
       " 'lay': 1,\n",
       " 'In': 1,\n",
       " 'leaves': 1,\n",
       " 'no': 1,\n",
       " 'step': 1,\n",
       " 'had': 1,\n",
       " 'trodden': 1,\n",
       " 'black.': 1,\n",
       " 'Oh,': 1,\n",
       " 'I': 5,\n",
       " 'kept': 1,\n",
       " 'first': 1,\n",
       " 'another': 1,\n",
       " 'day!': 1,\n",
       " 'Yet': 1,\n",
       " 'knowing': 1,\n",
       " 'how': 1,\n",
       " 'way': 1,\n",
       " 'leads': 1,\n",
       " 'on': 1,\n",
       " 'to': 1,\n",
       " 'way,': 1,\n",
       " 'doubted': 1,\n",
       " 'if': 1,\n",
       " 'should': 1,\n",
       " 'ever': 1,\n",
       " 'come': 1,\n",
       " 'back.': 1,\n",
       " 'shall': 1,\n",
       " 'be': 1,\n",
       " 'telling': 1,\n",
       " 'this': 1,\n",
       " 'with': 1,\n",
       " 'a': 2,\n",
       " 'sigh': 1,\n",
       " 'Somewhere': 1,\n",
       " 'ages': 2,\n",
       " 'hence:': 1,\n",
       " 'Two': 1,\n",
       " 'roads': 1,\n",
       " 'diverged': 1,\n",
       " 'in': 1,\n",
       " 'wood,': 1,\n",
       " 'Iâ€”': 1,\n",
       " 'took': 1,\n",
       " 'one': 1,\n",
       " 'less': 1,\n",
       " 'traveled': 1,\n",
       " 'by,': 1,\n",
       " 'has': 1,\n",
       " 'made': 1,\n",
       " 'all': 1,\n",
       " 'difference.': 1}"
      ]
     },
     "execution_count": 72,
     "metadata": {},
     "output_type": "execute_result"
    }
   ],
   "source": [
    "coud_word"
   ]
  },
  {
   "cell_type": "raw",
   "id": "77259762",
   "metadata": {},
   "source": [
    "9. Write a function in python that can reverse a string using stack data structure. Use Stack class from the tutorial.\n",
    "reverse_string(\"We will conquere COVID-19\") should return \"91-DIVOC ereuqnoc lliw eW\""
   ]
  },
  {
   "cell_type": "code",
   "execution_count": 150,
   "id": "9a20de39",
   "metadata": {},
   "outputs": [],
   "source": [
    "from collections import deque"
   ]
  },
  {
   "cell_type": "code",
   "execution_count": 151,
   "id": "aadb98ff",
   "metadata": {},
   "outputs": [],
   "source": [
    "class  Stack:\n",
    "    def __init__(self):\n",
    "        self.con=deque()\n",
    "    def push(self,data):\n",
    "        self.con.append(data)\n",
    "    def pop(self):\n",
    "        return self.con.pop()\n",
    "    def size(self):\n",
    "        return len(self.con)"
   ]
  },
  {
   "cell_type": "code",
   "execution_count": 152,
   "id": "c1cf1b7f",
   "metadata": {},
   "outputs": [],
   "source": [
    "stac=Stack()"
   ]
  },
  {
   "cell_type": "code",
   "execution_count": 153,
   "id": "50d46158",
   "metadata": {},
   "outputs": [],
   "source": [
    "s='We will conquere COVID-19'"
   ]
  },
  {
   "cell_type": "code",
   "execution_count": 154,
   "id": "7f912b8f",
   "metadata": {},
   "outputs": [],
   "source": [
    "for i in range(0,len(s)):\n",
    "    stac.push(s[i])"
   ]
  },
  {
   "cell_type": "code",
   "execution_count": 155,
   "id": "d0399e01",
   "metadata": {},
   "outputs": [
    {
     "data": {
      "text/plain": [
       "'91-DIVOC ereuqnoc lliw eW'"
      ]
     },
     "execution_count": 155,
     "metadata": {},
     "output_type": "execute_result"
    }
   ],
   "source": [
    "re=''\n",
    "siz=stac.size()\n",
    "for i in range(1,26):\n",
    "    re=re+stac.pop()\n",
    "re"
   ]
  },
  {
   "cell_type": "raw",
   "id": "374d5843",
   "metadata": {},
   "source": [
    "10. Write a function in python that checks if paranthesis in the string are balanced or not. Possible parantheses are \"{}',\"()\" or \"[]\". Use Stack class from the tutorial.\n",
    "is_balanced(\"({a+b})\")     --> True\n",
    "is_balanced(\"))((a+b}{\")   --> False\n",
    "is_balanced(\"((a+b))\")     --> True\n",
    "is_balanced(\"))\")          --> False\n",
    "is_balanced(\"[a+b]*(x+2y)*{gg+kk}\") --> True\n"
   ]
  },
  {
   "cell_type": "raw",
   "id": "80144f20",
   "metadata": {},
   "source": []
  },
  {
   "cell_type": "code",
   "execution_count": 2,
   "id": "a62664ec",
   "metadata": {},
   "outputs": [],
   "source": [
    "from collections import deque"
   ]
  },
  {
   "cell_type": "code",
   "execution_count": 3,
   "id": "25272e68",
   "metadata": {},
   "outputs": [],
   "source": [
    "class Queue:\n",
    "    def __init__(self):\n",
    "        self.queue=deque()\n",
    "    def order(self, data):\n",
    "        self.queue.appendleft(data)\n",
    "    def delete(self):\n",
    "        return self.queue.pop()\n",
    "    def is_empty(self):\n",
    "        return len(self.queue)==0\n",
    "    def size(self):\n",
    "        return len(self.queue)"
   ]
  },
  {
   "cell_type": "code",
   "execution_count": 4,
   "id": "9261b5bd",
   "metadata": {},
   "outputs": [],
   "source": [
    "q=Queue()\n",
    "q.order({\n",
    "    'product':'Smart Watch',\n",
    "    'timestamp':\"12 th 1200\",\n",
    "    'price':123.4\n",
    "})"
   ]
  },
  {
   "cell_type": "code",
   "execution_count": 5,
   "id": "b45892ad",
   "metadata": {},
   "outputs": [
    {
     "data": {
      "text/plain": [
       "1"
      ]
     },
     "execution_count": 5,
     "metadata": {},
     "output_type": "execute_result"
    }
   ],
   "source": [
    "q.size()"
   ]
  },
  {
   "cell_type": "raw",
   "id": "8483c4fc",
   "metadata": {},
   "source": [
    "10. Write a program to print binary numbers from 1 to 10 using Queue. Use Queue class implemented in main tutorial. Binary sequence should look like,\n",
    "    1\n",
    "    10\n",
    "    11\n",
    "    100\n",
    "    101\n",
    "    110\n",
    "    111\n",
    "    1000\n",
    "    1001\n",
    "    1010"
   ]
  },
  {
   "cell_type": "code",
   "execution_count": 7,
   "id": "3b5ef418",
   "metadata": {},
   "outputs": [
    {
     "name": "stdout",
     "output_type": "stream",
     "text": [
      "1\n",
      "10\n",
      "11\n",
      "100\n",
      "101\n",
      "110\n",
      "111\n",
      "1000\n",
      "1001\n",
      "1010\n"
     ]
    }
   ],
   "source": [
    "from queue import Queue\n",
    "def generate_binary_numbers(n):\n",
    "    q=Queue()\n",
    "    q.put(\"1\")\n",
    "    for _ in range(n):\n",
    "        binary_number=q.get()\n",
    "        print(binary_number)\n",
    "        q.put(binary_number+\"0\")\n",
    "        q.put(binary_number+\"1\")\n",
    "n=10\n",
    "generate_binary_numbers(n)"
   ]
  },
  {
   "cell_type": "code",
   "execution_count": 20,
   "id": "6319167f",
   "metadata": {},
   "outputs": [],
   "source": [
    "#Tree in python\n"
   ]
  },
  {
   "cell_type": "raw",
   "id": "0ee79187",
   "metadata": {},
   "source": [
    "1. Below is the management hierarchy of a company.\n",
    "  nilupul (CEO)\n",
    "      Chinmay (CTO)\n",
    "          Vishawa (Infrastructure Head)\n",
    "              Dhaval (Cloud Manager)\n",
    "              Abhijit (App Manager)\n",
    "          Aamir (Application Head)\n",
    "      Gels (HR Head)\n",
    "          Peter (Recruitment Manger)\n",
    "          Waqas (Policy Manager)\n",
    "Extent tree class built in our main tutorial so that it takes name and designation in data part of TreeNode class. Now extend print_tree function such that it can print either name tree, designation tree or name and designation tree. As shown below,\n",
    "Here is how your main function should will look like,\n",
    "if __name__ == '__main__':\n",
    "    root_node = build_management_tree()\n",
    "    root_node.print_tree(\"name\") # prints only name hierarchy\n",
    "    root_node.print_tree(\"designation\") # prints only designation hierarchy\n",
    "    root_node.print_tree(\"both\") # prints both (name and designation) hierarchy"
   ]
  },
  {
   "cell_type": "code",
   "execution_count": 1,
   "id": "a63e6d6c",
   "metadata": {},
   "outputs": [],
   "source": [
    "class tree:\n",
    "    def __init__(self,data,designation):\n",
    "        self.data=data\n",
    "        self.designation=designation\n",
    "        self.children=[]\n",
    "        self.parent=None\n",
    "        \n",
    "    def add_children(self,child):\n",
    "        child.parent=self\n",
    "        self.children.append(child)\n",
    "        \n",
    "    def get_value(self):\n",
    "        level=0\n",
    "        p=self.parent\n",
    "        while p:\n",
    "            level+=1\n",
    "            p=p.parent\n",
    "        return level\n",
    "    \n",
    "    def print_tree(self,dd):\n",
    "        if dd==\"name\":\n",
    "            spaces=' '*self.get_value()*3\n",
    "            prefix=spaces+'|__' if self.parent else \"\"\n",
    "            print(prefix+self.data)\n",
    "            if self.children:\n",
    "                for child in self.children:\n",
    "                    child.print_tree(dd)\n",
    "        \n",
    "        elif dd==\"designation\":\n",
    "            spaces=' '*self.get_value()*3\n",
    "            prefix=spaces+'|__' if self.parent else \"\"\n",
    "            print(prefix+self.designation)\n",
    "            if self.children:\n",
    "                for child in self.children:\n",
    "                    child.print_tree(dd)\n",
    "                    \n",
    "        elif dd==\"both\":\n",
    "            spaces=' '*self.get_value()*3\n",
    "            prefix=spaces+'|__' if self.parent else \"\"\n",
    "            print(prefix+self.data+\"( \"+self.designation+\" )\")\n",
    "            if self.children:\n",
    "                for child in self.children:\n",
    "                    child.print_tree(dd)\n",
    "                \n",
    "def build_tree():\n",
    "    Nilupul=tree(\"Nilupul\",\"CEO\")\n",
    "    Chinmay=tree(\"Chinmay\",\"CTO\")\n",
    "    Vishwa=tree(\"Vishwa\",\"Infrastructure Head\")\n",
    "    Dhaval=tree(\"Dhaval\",\"Cloud Manager\")\n",
    "    Abhijit=tree(\"Abhijit\",\"App Manager\")\n",
    "    Aamir=tree(\"Aamir\",\"Application Head\")\n",
    "    Gels=tree(\"Gels\",\"HR Head\")\n",
    "    Peter=tree(\"Peter\",\"Recruitment Manager\")\n",
    "    Waqas=tree(\"Waqas\",\"Policy Manager\")\n",
    "    \n",
    "    Nilupul.add_children(Chinmay)\n",
    "    Nilupul.add_children(Gels)\n",
    "    \n",
    "    Chinmay.add_children(Vishwa)\n",
    "    Chinmay.add_children(Aamir)\n",
    "    \n",
    "    Vishwa.add_children(Dhaval)\n",
    "    Vishwa.add_children(Abhijit)\n",
    "    \n",
    "    Gels.add_children(Peter)\n",
    "    Gels.add_children(Waqas)\n",
    "    \n",
    "    return Nilupul\n"
   ]
  },
  {
   "cell_type": "code",
   "execution_count": 2,
   "id": "78b89a29",
   "metadata": {},
   "outputs": [
    {
     "name": "stdout",
     "output_type": "stream",
     "text": [
      "Nilupul\n",
      "   |__Chinmay\n",
      "      |__Vishwa\n",
      "         |__Dhaval\n",
      "         |__Abhijit\n",
      "      |__Aamir\n",
      "   |__Gels\n",
      "      |__Peter\n",
      "      |__Waqas\n",
      "\n",
      "CEO\n",
      "   |__CTO\n",
      "      |__Infrastructure Head\n",
      "         |__Cloud Manager\n",
      "         |__App Manager\n",
      "      |__Application Head\n",
      "   |__HR Head\n",
      "      |__Recruitment Manager\n",
      "      |__Policy Manager\n",
      "\n",
      "Nilupul( CEO )\n",
      "   |__Chinmay( CTO )\n",
      "      |__Vishwa( Infrastructure Head )\n",
      "         |__Dhaval( Cloud Manager )\n",
      "         |__Abhijit( App Manager )\n",
      "      |__Aamir( Application Head )\n",
      "   |__Gels( HR Head )\n",
      "      |__Peter( Recruitment Manager )\n",
      "      |__Waqas( Policy Manager )\n"
     ]
    }
   ],
   "source": [
    "if __name__ == '__main__':\n",
    "    root_node = build_tree()\n",
    "    root_node.print_tree(\"name\") # prints only name hierarchy\n",
    "    print()\n",
    "    root_node.print_tree(\"designation\")\n",
    "    print()\n",
    "    # prints only designation hierarchy\n",
    "    root_node.print_tree(\"both\") # prints both (name and designation) hierarchy"
   ]
  },
  {
   "cell_type": "raw",
   "id": "fba58dc3",
   "metadata": {},
   "source": [
    "2. Build below location tree using TreeNode class\n",
    "\n"
   ]
  },
  {
   "cell_type": "code",
   "execution_count": 16,
   "id": "e61b921b",
   "metadata": {},
   "outputs": [],
   "source": [
    "class tree:\n",
    "    def __init__(self,data):\n",
    "        self.data=data\n",
    "        self.children=[]\n",
    "        self.parent=None\n",
    "        \n",
    "    def add_children(self,child):\n",
    "        child.parent=self\n",
    "        self.children.append(child)\n",
    "        \n",
    "    def get_value(self):\n",
    "        level=0\n",
    "        p=self.parent\n",
    "        while p:\n",
    "            level+=1\n",
    "            p=p.parent\n",
    "        return level\n",
    "    \n",
    "    def print_tree(self,dd):\n",
    "        spaces=' '*self.get_value()*3\n",
    "        prefix=spaces+'|__' if self.parent else \"\"\n",
    "        print(prefix+self.data)\n",
    "        if self.children:\n",
    "            for child in self.children:\n",
    "                if child.get_value()==dd+1:\n",
    "                    break\n",
    "                child.print_tree(dd)\n",
    "    \n",
    "                \n",
    "def build_tree():\n",
    "    Global=tree(\"Global\")\n",
    "    India=tree(\"India\")\n",
    "    USA=tree(\"USA\")\n",
    "    Global.add_children(India)\n",
    "    Global.add_children(USA)\n",
    "    \n",
    "    Gujarat=tree(\"Gujarat\")\n",
    "    Ahmedabad=tree(\"Ahmedabad\")\n",
    "    Baroda=tree(\"Baroda\")\n",
    "    \n",
    "    Karnataka=tree(\"Karnataka\")\n",
    "    Bangluru=tree(\"Bangluru\")\n",
    "    Mysore=tree(\"Mysore\")\n",
    "    NewJersey=tree(\"New Jersey\")\n",
    "    Princeton=tree(\"Princeton\")\n",
    "    Trenton=tree(\"Trenton\")\n",
    "    California=tree(\"California\")\n",
    "    SanFrancisco=tree(\"San Francisco\")\n",
    "    MountainView=tree(\"Mountain View\")\n",
    "    PaloAlto=tree(\"Palo Alto\")\n",
    "    \n",
    "    India.add_children(Gujarat)\n",
    "    India.add_children(Karnataka)\n",
    "    \n",
    "    Gujarat.add_children(Ahmedabad)\n",
    "    Gujarat.add_children(Baroda)\n",
    "    \n",
    "    Karnataka.add_children(Bangluru)\n",
    "    Karnataka.add_children(Mysore)\n",
    "    \n",
    "    USA.add_children(NewJersey)\n",
    "    USA.add_children(California)\n",
    "    \n",
    "    NewJersey.add_children(Princeton)\n",
    "    NewJersey.add_children(Trenton)\n",
    "    \n",
    "    California.add_children(SanFrancisco)\n",
    "    California.add_children(MountainView)\n",
    "    California.add_children(PaloAlto)\n",
    "    \n",
    "    \n",
    "    \n",
    "    return Global\n"
   ]
  },
  {
   "cell_type": "code",
   "execution_count": 24,
   "id": "369ee7d4",
   "metadata": {},
   "outputs": [
    {
     "name": "stdout",
     "output_type": "stream",
     "text": [
      "Global\n",
      "   |__India\n",
      "      |__Gujarat\n",
      "         |__Ahmedabad\n",
      "         |__Baroda\n",
      "      |__Karnataka\n",
      "         |__Bangluru\n",
      "         |__Mysore\n",
      "   |__USA\n",
      "      |__New Jersey\n",
      "         |__Princeton\n",
      "         |__Trenton\n",
      "      |__California\n",
      "         |__San Francisco\n",
      "         |__Mountain View\n",
      "         |__Palo Alto\n"
     ]
    }
   ],
   "source": [
    "if __name__ == '__main__':\n",
    "    root_node = build_tree()\n",
    "    root_node.print_tree(3)"
   ]
  },
  {
   "cell_type": "code",
   "execution_count": null,
   "id": "0233e33d",
   "metadata": {},
   "outputs": [],
   "source": []
  }
 ],
 "metadata": {
  "kernelspec": {
   "display_name": "Python 3 (ipykernel)",
   "language": "python",
   "name": "python3"
  },
  "language_info": {
   "codemirror_mode": {
    "name": "ipython",
    "version": 3
   },
   "file_extension": ".py",
   "mimetype": "text/x-python",
   "name": "python",
   "nbconvert_exporter": "python",
   "pygments_lexer": "ipython3",
   "version": "3.9.7"
  }
 },
 "nbformat": 4,
 "nbformat_minor": 5
}
